{
 "cells": [
  {
   "cell_type": "code",
   "execution_count": 1,
   "metadata": {},
   "outputs": [],
   "source": [
    "# Set the project path to root\n",
    "import os\n",
    "os.chdir(\"C:/Users/Ryan/Documents/GitHub/transport-for-london\")\n",
    "\n",
    "import pandas as pd\n",
    "from src.data import api_tools\n"
   ]
  },
  {
   "cell_type": "markdown",
   "metadata": {},
   "source": [
    "First up we'll explore the locations of Transport for London (TFL) bike stations around the city.\n",
    "\n",
    "We will:\n",
    "1. Initiate an API connection to the TfL Rest API\n",
    "2. Extract locations from the BikePoint endpoint\n",
    "3. Save the extracted data (Which is returned as a JSON) as a CSV"
   ]
  },
  {
   "cell_type": "code",
   "execution_count": 2,
   "metadata": {},
   "outputs": [
    {
     "name": "stderr",
     "output_type": "stream",
     "text": [
      "2024-01-01 17:41:45 [INFO]: API request successful\n",
      "2024-01-01 17:41:45 [INFO]: Returned 797 rows\n"
     ]
    }
   ],
   "source": [
    "endpoint = \"BikePoint\"\n",
    "filepath = \"./csv/\"\n",
    "filename = \"tfl_response.csv\"\n",
    "\n",
    "# We have built a custom API class to handle requests\n",
    "tfl_api = api_tools.TfLApiClient()\n",
    "response = tfl_api.make_request('BikePoint')\n",
    "\n",
    "# We convert the returned JSON to a pandas dataframe and save\n",
    "response_df = pd.DataFrame(response)\n",
    "response_df.to_csv(filepath + filename, index=None)\n"
   ]
  },
  {
   "cell_type": "markdown",
   "metadata": {},
   "source": [
    "Let's take a look at the returned data..."
   ]
  },
  {
   "cell_type": "code",
   "execution_count": 3,
   "metadata": {},
   "outputs": [
    {
     "data": {
      "text/plain": [
       "$type                    object\n",
       "id                       object\n",
       "url                      object\n",
       "commonName               object\n",
       "placeType                object\n",
       "additionalProperties     object\n",
       "children                 object\n",
       "childrenUrls             object\n",
       "lat                     float64\n",
       "lon                     float64\n",
       "dtype: object"
      ]
     },
     "execution_count": 3,
     "metadata": {},
     "output_type": "execute_result"
    }
   ],
   "source": [
    "response_df.dtypes"
   ]
  },
  {
   "cell_type": "markdown",
   "metadata": {},
   "source": [
    "Here we can see there is supplementary information for each bike station held within the 'additionalProperties' column, which may be worth exploring further..."
   ]
  },
  {
   "cell_type": "code",
   "execution_count": 4,
   "metadata": {},
   "outputs": [
    {
     "name": "stdout",
     "output_type": "stream",
     "text": [
      "['TerminalName', 'Installed', 'Locked', 'InstallDate', 'RemovalDate', 'Temporary', 'NbBikes', 'NbEmptyDocks', 'NbDocks', 'NbStandardBikes', 'NbEBikes']\n"
     ]
    },
    {
     "data": {
      "text/html": [
       "<div>\n",
       "<style scoped>\n",
       "    .dataframe tbody tr th:only-of-type {\n",
       "        vertical-align: middle;\n",
       "    }\n",
       "\n",
       "    .dataframe tbody tr th {\n",
       "        vertical-align: top;\n",
       "    }\n",
       "\n",
       "    .dataframe thead th {\n",
       "        text-align: right;\n",
       "    }\n",
       "</style>\n",
       "<table border=\"1\" class=\"dataframe\">\n",
       "  <thead>\n",
       "    <tr style=\"text-align: right;\">\n",
       "      <th></th>\n",
       "      <th>key</th>\n",
       "      <th>value</th>\n",
       "      <th>modified</th>\n",
       "    </tr>\n",
       "  </thead>\n",
       "  <tbody>\n",
       "    <tr>\n",
       "      <th>0</th>\n",
       "      <td>TerminalName</td>\n",
       "      <td>001023</td>\n",
       "      <td>2024-01-01T15:37:30.333Z</td>\n",
       "    </tr>\n",
       "    <tr>\n",
       "      <th>1</th>\n",
       "      <td>Installed</td>\n",
       "      <td>true</td>\n",
       "      <td>2024-01-01T15:37:30.333Z</td>\n",
       "    </tr>\n",
       "    <tr>\n",
       "      <th>2</th>\n",
       "      <td>Locked</td>\n",
       "      <td>false</td>\n",
       "      <td>2024-01-01T15:37:30.333Z</td>\n",
       "    </tr>\n",
       "    <tr>\n",
       "      <th>3</th>\n",
       "      <td>InstallDate</td>\n",
       "      <td>1278947280000</td>\n",
       "      <td>2024-01-01T15:37:30.333Z</td>\n",
       "    </tr>\n",
       "    <tr>\n",
       "      <th>4</th>\n",
       "      <td>RemovalDate</td>\n",
       "      <td></td>\n",
       "      <td>2024-01-01T15:37:30.333Z</td>\n",
       "    </tr>\n",
       "    <tr>\n",
       "      <th>5</th>\n",
       "      <td>Temporary</td>\n",
       "      <td>false</td>\n",
       "      <td>2024-01-01T15:37:30.333Z</td>\n",
       "    </tr>\n",
       "    <tr>\n",
       "      <th>6</th>\n",
       "      <td>NbBikes</td>\n",
       "      <td>15</td>\n",
       "      <td>2024-01-01T15:37:30.333Z</td>\n",
       "    </tr>\n",
       "    <tr>\n",
       "      <th>7</th>\n",
       "      <td>NbEmptyDocks</td>\n",
       "      <td>3</td>\n",
       "      <td>2024-01-01T15:37:30.333Z</td>\n",
       "    </tr>\n",
       "    <tr>\n",
       "      <th>8</th>\n",
       "      <td>NbDocks</td>\n",
       "      <td>19</td>\n",
       "      <td>2024-01-01T15:37:30.333Z</td>\n",
       "    </tr>\n",
       "    <tr>\n",
       "      <th>9</th>\n",
       "      <td>NbStandardBikes</td>\n",
       "      <td>14</td>\n",
       "      <td>2024-01-01T15:37:30.333Z</td>\n",
       "    </tr>\n",
       "    <tr>\n",
       "      <th>10</th>\n",
       "      <td>NbEBikes</td>\n",
       "      <td>1</td>\n",
       "      <td>2024-01-01T15:37:30.333Z</td>\n",
       "    </tr>\n",
       "  </tbody>\n",
       "</table>\n",
       "</div>"
      ],
      "text/plain": [
       "                key          value                  modified\n",
       "0      TerminalName         001023  2024-01-01T15:37:30.333Z\n",
       "1         Installed           true  2024-01-01T15:37:30.333Z\n",
       "2            Locked          false  2024-01-01T15:37:30.333Z\n",
       "3       InstallDate  1278947280000  2024-01-01T15:37:30.333Z\n",
       "4       RemovalDate                 2024-01-01T15:37:30.333Z\n",
       "5         Temporary          false  2024-01-01T15:37:30.333Z\n",
       "6           NbBikes             15  2024-01-01T15:37:30.333Z\n",
       "7      NbEmptyDocks              3  2024-01-01T15:37:30.333Z\n",
       "8           NbDocks             19  2024-01-01T15:37:30.333Z\n",
       "9   NbStandardBikes             14  2024-01-01T15:37:30.333Z\n",
       "10         NbEBikes              1  2024-01-01T15:37:30.333Z"
      ]
     },
     "execution_count": 4,
     "metadata": {},
     "output_type": "execute_result"
    }
   ],
   "source": [
    "# Supplementary data on each bike station\n",
    "print([prop['key'] for prop in response_df.loc[0]['additionalProperties']])\n",
    "pd.DataFrame(response_df['additionalProperties'][0])[['key', 'value', 'modified']]"
   ]
  },
  {
   "cell_type": "markdown",
   "metadata": {},
   "source": [
    "'NbBikes', 'NbEmptyDocks', 'NbDocks' seem like they may be useful so we will include these columns in the top level data.\n",
    "\n",
    "One way would be to run a lambda function over the whole df, extracting the data of interest but this can get messy. Instead we will simply create a new df from the desired columns, including the bike station id, or in other words we transform the data from its raw state to a useable state.\n",
    "\n"
   ]
  },
  {
   "cell_type": "code",
   "execution_count": 5,
   "metadata": {},
   "outputs": [],
   "source": [
    "\n",
    "additional_cols = ['NbBikes', 'NbEmptyDocks', 'NbDocks']\n",
    "new_data = list()\n",
    "\n",
    "for item in response:\n",
    "    new_dict = dict()\n",
    "\n",
    "    #Copy through the top level details\n",
    "    new_dict['id'] = item['id']\n",
    "    new_dict['lat'] = item['lat']\n",
    "    new_dict['lon'] = item['lon']\n",
    "\n",
    "    # Iterate the additional properties to extract the desired values\n",
    "    additional_props = item['additionalProperties']\n",
    "\n",
    "    # We don't name the cols explicitly, allowing us to change our mind on the desired columns in the future\n",
    "    for prop in additional_props:\n",
    "        if prop['key'] in additional_cols:\n",
    "            new_dict[prop['key']] = prop['value']\n",
    "\n",
    "    new_data.append(new_dict)\n",
    "\n",
    "# We'll call this our bike stations df to work with from here on\n",
    "bike_stations_df = pd.DataFrame(new_data)"
   ]
  },
  {
   "cell_type": "markdown",
   "metadata": {},
   "source": [
    "Interestingly there are stations claiming to have 0 docks in the data. We will remove these from the dataset as a bike station without any bike docks seems nonsensical, however these may be special cases worth looking into later."
   ]
  },
  {
   "cell_type": "code",
   "execution_count": 8,
   "metadata": {},
   "outputs": [
    {
     "data": {
      "text/html": [
       "<div>\n",
       "<style scoped>\n",
       "    .dataframe tbody tr th:only-of-type {\n",
       "        vertical-align: middle;\n",
       "    }\n",
       "\n",
       "    .dataframe tbody tr th {\n",
       "        vertical-align: top;\n",
       "    }\n",
       "\n",
       "    .dataframe thead th {\n",
       "        text-align: right;\n",
       "    }\n",
       "</style>\n",
       "<table border=\"1\" class=\"dataframe\">\n",
       "  <thead>\n",
       "    <tr style=\"text-align: right;\">\n",
       "      <th></th>\n",
       "      <th>id</th>\n",
       "      <th>lat</th>\n",
       "      <th>lon</th>\n",
       "      <th>NbBikes</th>\n",
       "      <th>NbEmptyDocks</th>\n",
       "      <th>NbDocks</th>\n",
       "    </tr>\n",
       "  </thead>\n",
       "  <tbody>\n",
       "    <tr>\n",
       "      <th>773</th>\n",
       "      <td>BikePoints_240</td>\n",
       "      <td>51.505459</td>\n",
       "      <td>-0.105692</td>\n",
       "      <td>0</td>\n",
       "      <td>0</td>\n",
       "      <td>0</td>\n",
       "    </tr>\n",
       "  </tbody>\n",
       "</table>\n",
       "</div>"
      ],
      "text/plain": [
       "                 id        lat       lon  NbBikes  NbEmptyDocks  NbDocks\n",
       "773  BikePoints_240  51.505459 -0.105692        0             0        0"
      ]
     },
     "execution_count": 8,
     "metadata": {},
     "output_type": "execute_result"
    }
   ],
   "source": [
    "bike_stations_df.query('NbDocks == 0')"
   ]
  },
  {
   "cell_type": "code",
   "execution_count": 9,
   "metadata": {},
   "outputs": [],
   "source": [
    "# A little data cleaning and housekeeping\n",
    "bike_stations_df[additional_cols] = bike_stations_df[additional_cols].astype(int)\n",
    "bike_stations_df['id'] = bike_stations_df['id'].astype(str)\n",
    "clean_df = bike_stations_df.query('NbDocks > 0').reset_index()\n"
   ]
  },
  {
   "cell_type": "markdown",
   "metadata": {},
   "source": [
    "One more handy feature might be the ratio of bikes available vs the number of docks vacant at each station.  \n",
    "We can run a simple lambda function over the dataframe to add this feature."
   ]
  },
  {
   "cell_type": "code",
   "execution_count": 10,
   "metadata": {},
   "outputs": [],
   "source": [
    "clean_df['occupancy_ratio'] = clean_df.apply(lambda x: round(x['NbBikes'] / x['NbDocks'],2), axis=1)\n",
    "\n",
    "# And finally let's save this modified data to CSV\n",
    "clean_df.to_csv('./csv/bike_point_clean.csv')"
   ]
  },
  {
   "cell_type": "markdown",
   "metadata": {},
   "source": [
    "Now we have the Name, ID and locations of all available bike stations plus some useful properties.  \n",
    "We can visualise these to better understand their distribution"
   ]
  },
  {
   "cell_type": "code",
   "execution_count": 15,
   "metadata": {},
   "outputs": [],
   "source": [
    "import plotly.express as px\n",
    "\n",
    "fig = px.scatter_mapbox(clean_df,\n",
    "                        lat='lat', \n",
    "                        lon='lon', \n",
    "                        hover_name='id', \n",
    "                        hover_data=['NbDocks', 'NbBikes', 'NbEmptyDocks', 'occupancy_ratio'],  \n",
    "                        color='occupancy_ratio', \n",
    "                        mapbox_style='carto-darkmatter',  \n",
    "                        color_continuous_scale=px.colors.diverging.balance_r,\n",
    "                        range_color=[0,1], \n",
    "                        zoom=10.5) \n",
    "\n",
    "fig.update_layout(margin=dict(l=50, r=50, b=50, t=55))\n",
    "fig.update_layout(dict(title='London Bike Station Ocupancies'))\n",
    "\n",
    "fig.add_annotation(\n",
    "    text='Fig: Data retrieved from api.tfl.gov.uk, showing ratio of currently occupied and empty docks of all bike stations in the TFL dataset.',\n",
    "    showarrow=False,\n",
    "    x=0, y=-0.1)\n",
    "\n",
    "\n",
    "fig.show()"
   ]
  },
  {
   "cell_type": "markdown",
   "metadata": {},
   "source": []
  },
  {
   "cell_type": "markdown",
   "metadata": {},
   "source": [
    "Doing some visual exploration, we can see the patterns of vacant vs full docks at each bike station. Depending on when the API is queried, data may reflect different patterns of users travelling to and from the central city and outer suburbs of London."
   ]
  },
  {
   "cell_type": "markdown",
   "metadata": {},
   "source": [
    "Some possible inferences:\n",
    "\n",
    "- There are less bikes available at inner city bike stations when the API was queried\n",
    "- The system requires some \"slack\", with more docking spaces available than bikes\n",
    "- There may be a daily pattern to bike station occupancy levels\n",
    "- The Southeast is underserved relative to other regions\n"
   ]
  },
  {
   "cell_type": "code",
   "execution_count": 111,
   "metadata": {},
   "outputs": [],
   "source": [
    "# Kepler.gl is my geo-data exploration tool of choice however plotly provides a solid in-notebook experience for rendering\n",
    "# Uncomment the below to use Kepler\n",
    "\n",
    "# import keplergl\n",
    "\n",
    "# from keplergl import KeplerGl\n",
    "# map_data = clean_df[['id', 'lat', 'lon', 'occupancy_ratio'] + additional_cols]\n",
    "# tfl_bike_map = KeplerGl()\n",
    "# tfl_bike_map.add_data(data=map_data, name='tfl_bike_stations')\n",
    "\n",
    "# tfl_bike_map\n"
   ]
  },
  {
   "cell_type": "code",
   "execution_count": null,
   "metadata": {},
   "outputs": [],
   "source": []
  }
 ],
 "metadata": {
  "kernelspec": {
   "display_name": "gpd",
   "language": "python",
   "name": "python3"
  },
  "language_info": {
   "codemirror_mode": {
    "name": "ipython",
    "version": 3
   },
   "file_extension": ".py",
   "mimetype": "text/x-python",
   "name": "python",
   "nbconvert_exporter": "python",
   "pygments_lexer": "ipython3",
   "version": "3.9.2"
  }
 },
 "nbformat": 4,
 "nbformat_minor": 2
}
